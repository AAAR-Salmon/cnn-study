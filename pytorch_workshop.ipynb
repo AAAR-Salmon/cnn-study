{
 "cells": [
  {
   "cell_type": "markdown",
   "id": "ced85796-78fc-49b9-b97f-424292761b1c",
   "metadata": {},
   "source": [
    "# pytorchで簡単にニューラルネットワークを作ろう"
   ]
  },
  {
   "cell_type": "markdown",
   "id": "8e08552c-f994-4814-9324-a09789046bd6",
   "metadata": {},
   "source": [
    "## ニューラルネットワークとは\n",
    "\n",
    "- できることを見ると\n",
    "  - 回帰問題（数値予測）と分類問題が解けるやつ\n",
    "  - 入力と期待される出力の組（教師データ）を与えればいい感じに補間してくれるやつ\n",
    "    - 損失関数は上手に設定する必要がある\n",
    "- 構成するパーツを見ると\n",
    "  - 人工ニューロンがいっぱい繋がったやつ"
   ]
  },
  {
   "cell_type": "markdown",
   "id": "b2b19e53-0d30-4ef4-b249-6bcb57f23424",
   "metadata": {},
   "source": [
    "## 人工ニューロンとは（数式は覚えなくていい）\n",
    "\n",
    "- $d$ 個の入力（=入力ベクトル）$\\boldsymbol{x}=(1,x_1,\\dots,x_d)^{T}$ を受け、\n",
    "  重み付け和を計算し、適当な関数（活性化関数）に通して出力するやつ\n",
    "  - 単に内積で表せるようにダミーの $1$ を第0次元に付け足している（cf. 同次座標系）\n",
    "- ニューロンの持つパラメータは\n",
    "  - 重み $\\boldsymbol{w}=(w_0,w_1,\\dots,w_d)^{T}$\n",
    "  - 活性化関数 $f$\n",
    "    - しばしば同じ層のニューロンは同じ活性化関数を使う\n",
    "- 出力は $f(\\boldsymbol{w}^{T}\\boldsymbol{x})=f(w_0+w_1x_1+\\dots+w_dx_d)$\n",
    "\n",
    "![ニューラルネットワークは多数のニューロンが接続されている](./resources/figures/neural_network.png)\n",
    "![ニューロンの入出力](./resources/figures/artificial_neuron.png)"
   ]
  },
  {
   "cell_type": "markdown",
   "id": "5f7d9919-f7c6-4569-8442-f7b7459b1333",
   "metadata": {},
   "source": [
    "## ニューラルネットワークの万能近似定理（普遍性定理）\n",
    "\n",
    "3層ニューラルネットワークはいくつかの条件のもと、その重みを調節することによって出力の誤差を任意の正数まで減らすことができる\n",
    "\n",
    "現在は活性化関数はSigmoidalな関数でなくても良いとされている"
   ]
  },
  {
   "cell_type": "markdown",
   "id": "624c811f-4022-407b-ab62-6bb345330218",
   "metadata": {},
   "source": [
    "## ニューラルネットワークで分類問題を解くには\n",
    "\n",
    "$c$ クラス分類問題を解くならば、$c$ 出力のニューラルネットワークにする\n",
    "\n",
    "入力を与えてForward計算をしたとき、出力層において最大の値を取っているノードのクラスに分類されたとする"
   ]
  },
  {
   "cell_type": "markdown",
   "id": "7f01b46d-8e5c-4ac3-9218-443e471b8d52",
   "metadata": {},
   "source": [
    "## 文字画像分類問題を解く\n",
    "\n",
    "### QMNISTとは\n",
    "\n",
    "QMNISTとは、Facebook ReserchによってMNISTを再構築したデータセット。もともとのMNISTは、NISTの手書き数字データベースのうち、Special Database 3（Census Bureau局員による）とSpecial Database 1（高校生たちによる）を抽出・前処理したものであるが、ライセンスが不明瞭であるため、（BSD-styleライセンスである）QMNISTを用いる\n",
    "\n",
    "### ニューラルネットワークに画像を入力する（一般論として）\n",
    "\n",
    "サイズ $A \\times B$、3チャンネル（RGB）固定であるとするならば、flattenして $3AB$ 次元のベクトルとして入力すれば良い\n",
    "\n",
    "### MNISTの場合\n",
    "\n",
    "28x28 のグレースケール画像なので、入力は28x28x1=784次元とする"
   ]
  }
 ],
 "metadata": {
  "kernelspec": {
   "display_name": "Python 3 (ipykernel)",
   "language": "python",
   "name": "python3"
  },
  "language_info": {
   "codemirror_mode": {
    "name": "ipython",
    "version": 3
   },
   "file_extension": ".py",
   "mimetype": "text/x-python",
   "name": "python",
   "nbconvert_exporter": "python",
   "pygments_lexer": "ipython3",
   "version": "3.10.7"
  }
 },
 "nbformat": 4,
 "nbformat_minor": 5
}
