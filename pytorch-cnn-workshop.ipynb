{
 "cells": [
  {
   "cell_type": "markdown",
   "id": "6fb4610b-ee32-4fc1-8d16-67e743198dbe",
   "metadata": {},
   "source": [
    "# Pythonのpytorchモジュールを用いたニューラルネットワークによるクラス分類器作成ワークショップ"
   ]
  },
  {
   "cell_type": "markdown",
   "id": "d8a6178e-3052-4588-8a17-2177fdd38cbb",
   "metadata": {},
   "source": [
    "## 単純パーセプトロンとは\n",
    "\n",
    "掛け算と足し算だけでベクトル（=数値列）の分類・特徴量計算ができるもの\n",
    "\n",
    "計算だけなら小学生でもできるはず（負数の扱いには困るかもしれないが）\n",
    "\n",
    "### 人工ニューロン（パーセプトロン）\n",
    "\n",
    "入力ベクトル $\\boldsymbol{x}=[x_1, \\dots, x_{d}]^{T}$ に重みベクトル $\\boldsymbol{w}=[w_{1}, \\dots, w_{d}]^{T}$ を内積してバイアス項 $w_{0}$ を足す、という演算装置\n",
    "\n",
    "すなわち、入力信号 $\\boldsymbol{x}$ を受け取り出力信号 $y=w_{0}+\\langle\\boldsymbol{w},\\boldsymbol{x}\\rangle=w_{0}+w_{1}x_{1}+\\dots+w_{d}x_{d}$ を出す"
   ]
  }
 ],
 "metadata": {
  "kernelspec": {
   "display_name": "Local",
   "language": "python",
   "name": "python3"
  },
  "language_info": {
   "codemirror_mode": {
    "name": "ipython",
    "version": 3
   },
   "file_extension": ".py",
   "mimetype": "text/x-python",
   "name": "python",
   "nbconvert_exporter": "python",
   "pygments_lexer": "ipython3",
   "version": "3.10.7"
  }
 },
 "nbformat": 4,
 "nbformat_minor": 5
}
