{
 "cells": [
  {
   "cell_type": "markdown",
   "id": "ced85796-78fc-49b9-b97f-424292761b1c",
   "metadata": {},
   "source": [
    "# pytorchで簡単にニューラルネットワークを作ろう"
   ]
  },
  {
   "cell_type": "markdown",
   "id": "8e08552c-f994-4814-9324-a09789046bd6",
   "metadata": {},
   "source": [
    "## ニューラルネットワークとは\n",
    "\n",
    "- できることを見ると\n",
    "  - 回帰問題（数値予測）と分類問題が解けるやつ\n",
    "  - 入力と期待される出力の組（教師データ）を与えればいい感じに補間してくれるやつ\n",
    "    - 損失関数は上手に設定する必要がある\n",
    "- 構成するパーツを見ると\n",
    "  - 人工ニューロンがいっぱい繋がったやつ"
   ]
  },
  {
   "cell_type": "markdown",
   "id": "b2b19e53-0d30-4ef4-b249-6bcb57f23424",
   "metadata": {},
   "source": [
    "## 人工ニューロンとは（数式は覚えなくていい）\n",
    "\n",
    "- $d$ 個の入力（=入力ベクトル）$\\boldsymbol{x}=(1,x_1,\\dots,x_d)^{T}$ を受け、重み付け和を計算し、適当な関数（活性化関数）に通して出力するやつ\n",
    "- ニューロンの持つパラメータは\n",
    "  - 重み $\\boldsymbol{w}=(w_0,w_1,\\dots,w_d)^{T}$\n",
    "  - 活性化関数 $f$\n",
    "    - しばしば同じ層のニューロンは同じ活性化関数を使う\n",
    "- 出力は $f(\\boldsymbol{w}^{T}\\boldsymbol{x})=f(w_0+w_1x_1+\\dots+w_dx_d)$"
   ]
  }
 ],
 "metadata": {
  "kernelspec": {
   "display_name": "Python 3 (ipykernel)",
   "language": "python",
   "name": "python3"
  },
  "language_info": {
   "codemirror_mode": {
    "name": "ipython",
    "version": 3
   },
   "file_extension": ".py",
   "mimetype": "text/x-python",
   "name": "python",
   "nbconvert_exporter": "python",
   "pygments_lexer": "ipython3",
   "version": "3.10.5"
  }
 },
 "nbformat": 4,
 "nbformat_minor": 5
}
